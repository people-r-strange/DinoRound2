{
 "cells": [
  {
   "cell_type": "code",
   "execution_count": 4,
   "metadata": {},
   "outputs": [],
   "source": [
    "import pandas as pd"
   ]
  },
  {
   "cell_type": "code",
   "execution_count": 2,
   "metadata": {},
   "outputs": [],
   "source": [
    "fri_calls = pd.read_csv(\"C:/Users/igome/Documents/Smith/Spring_2021/visual analyticsd/DC2-data/DC2-data/Communication Data/comm-data-Fri.csv\")\n",
    "sat_calls = pd.read_csv(\"C:/Users/igome/Documents/Smith/Spring_2021/visual analyticsd/DC2-data/DC2-data/Communication Data/comm-data-Sat.csv\")\n",
    "sun_calls = pd.read_csv(\"C:/Users/igome/Documents/Smith/Spring_2021/visual analyticsd/DC2-data/DC2-data/Communication Data/comm-data-Sun.csv\")"
   ]
  },
  {
   "cell_type": "code",
   "execution_count": 7,
   "metadata": {},
   "outputs": [
    {
     "name": "stdout",
     "output_type": "stream",
     "text": [
      "<class 'pandas.core.frame.DataFrame'>\n",
      "RangeIndex: 948739 entries, 0 to 948738\n",
      "Data columns (total 4 columns):\n",
      " #   Column     Non-Null Count   Dtype         \n",
      "---  ------     --------------   -----         \n",
      " 0   Timestamp  948739 non-null  datetime64[ns]\n",
      " 1   from       948739 non-null  int64         \n",
      " 2   to         948739 non-null  object        \n",
      " 3   location   948739 non-null  object        \n",
      "dtypes: datetime64[ns](1), int64(1), object(2)\n",
      "memory usage: 21.7+ MB\n"
     ]
    }
   ],
   "source": [
    "fri_calls.info()"
   ]
  },
  {
   "cell_type": "code",
   "execution_count": 5,
   "metadata": {},
   "outputs": [],
   "source": [
    "#converting Timestamp column from object to datetime \n",
    "fri_calls['Timestamp'] = pd.to_datetime(fri_calls['Timestamp'])\n",
    "sat_calls['Timestamp'] = pd.to_datetime(sat_calls['Timestamp'])\n",
    "sun_calls['Timestamp'] = pd.to_datetime(sun_calls['Timestamp'])"
   ]
  },
  {
   "cell_type": "code",
   "execution_count": 6,
   "metadata": {},
   "outputs": [
    {
     "ename": "AttributeError",
     "evalue": "'Series' object has no attribute 'hour'",
     "output_type": "error",
     "traceback": [
      "\u001b[1;31m---------------------------------------------------------------------------\u001b[0m",
      "\u001b[1;31mAttributeError\u001b[0m                            Traceback (most recent call last)",
      "\u001b[1;32m<ipython-input-6-7f9baf6cdb13>\u001b[0m in \u001b[0;36m<module>\u001b[1;34m\u001b[0m\n\u001b[1;32m----> 1\u001b[1;33m \u001b[0mfri_calls\u001b[0m\u001b[1;33m.\u001b[0m\u001b[0mgroupby\u001b[0m\u001b[1;33m(\u001b[0m\u001b[1;33m[\u001b[0m\u001b[0mfri_calls\u001b[0m\u001b[1;33m[\u001b[0m\u001b[1;34m'Timestamp'\u001b[0m\u001b[1;33m]\u001b[0m\u001b[1;33m.\u001b[0m\u001b[0mhour\u001b[0m\u001b[1;33m,\u001b[0m \u001b[0mfri_calls\u001b[0m\u001b[1;33m[\u001b[0m\u001b[1;34m'Timestamp'\u001b[0m\u001b[1;33m]\u001b[0m\u001b[1;33m.\u001b[0m\u001b[0mminute\u001b[0m\u001b[1;33m]\u001b[0m\u001b[1;33m)\u001b[0m\u001b[1;33m.\u001b[0m\u001b[0mvalue_col\u001b[0m\u001b[1;33m.\u001b[0m\u001b[0msum\u001b[0m\u001b[1;33m(\u001b[0m\u001b[1;33m)\u001b[0m\u001b[1;33m\u001b[0m\u001b[1;33m\u001b[0m\u001b[0m\n\u001b[0m",
      "\u001b[1;32m~\\anaconda3\\lib\\site-packages\\pandas\\core\\generic.py\u001b[0m in \u001b[0;36m__getattr__\u001b[1;34m(self, name)\u001b[0m\n\u001b[0;32m   5272\u001b[0m             \u001b[1;32mif\u001b[0m \u001b[0mself\u001b[0m\u001b[1;33m.\u001b[0m\u001b[0m_info_axis\u001b[0m\u001b[1;33m.\u001b[0m\u001b[0m_can_hold_identifiers_and_holds_name\u001b[0m\u001b[1;33m(\u001b[0m\u001b[0mname\u001b[0m\u001b[1;33m)\u001b[0m\u001b[1;33m:\u001b[0m\u001b[1;33m\u001b[0m\u001b[1;33m\u001b[0m\u001b[0m\n\u001b[0;32m   5273\u001b[0m                 \u001b[1;32mreturn\u001b[0m \u001b[0mself\u001b[0m\u001b[1;33m[\u001b[0m\u001b[0mname\u001b[0m\u001b[1;33m]\u001b[0m\u001b[1;33m\u001b[0m\u001b[1;33m\u001b[0m\u001b[0m\n\u001b[1;32m-> 5274\u001b[1;33m             \u001b[1;32mreturn\u001b[0m \u001b[0mobject\u001b[0m\u001b[1;33m.\u001b[0m\u001b[0m__getattribute__\u001b[0m\u001b[1;33m(\u001b[0m\u001b[0mself\u001b[0m\u001b[1;33m,\u001b[0m \u001b[0mname\u001b[0m\u001b[1;33m)\u001b[0m\u001b[1;33m\u001b[0m\u001b[1;33m\u001b[0m\u001b[0m\n\u001b[0m\u001b[0;32m   5275\u001b[0m \u001b[1;33m\u001b[0m\u001b[0m\n\u001b[0;32m   5276\u001b[0m     \u001b[1;32mdef\u001b[0m \u001b[0m__setattr__\u001b[0m\u001b[1;33m(\u001b[0m\u001b[0mself\u001b[0m\u001b[1;33m,\u001b[0m \u001b[0mname\u001b[0m\u001b[1;33m:\u001b[0m \u001b[0mstr\u001b[0m\u001b[1;33m,\u001b[0m \u001b[0mvalue\u001b[0m\u001b[1;33m)\u001b[0m \u001b[1;33m->\u001b[0m \u001b[1;32mNone\u001b[0m\u001b[1;33m:\u001b[0m\u001b[1;33m\u001b[0m\u001b[1;33m\u001b[0m\u001b[0m\n",
      "\u001b[1;31mAttributeError\u001b[0m: 'Series' object has no attribute 'hour'"
     ]
    }
   ],
   "source": [
    "fri_calls.groupby([fri_calls['Timestamp'].hour, fri_calls['Timestamp'].minute]).value_col.sum()"
   ]
  },
  {
   "cell_type": "code",
   "execution_count": 8,
   "metadata": {},
   "outputs": [],
   "source": [
    "#data.groupby([pd.Grouper(key='created_at', freq='M'), \n",
    "              \n",
    "#this will be too large, how to better group for visualization, could do a graph for 8am - 11pm by the hour   \n",
    "fri_calls_count = fri_calls.groupby([pd.Grouper(key = 'Timestamp', freq = '1min')]).sum()\n",
    "\n",
    "sat_calls_count = sat_calls.groupby([pd.Grouper(key = 'Timestamp', freq = '1min')]).sum()\n",
    "\n",
    "sun_calls_count = sun_calls.groupby([pd.Grouper(key = 'Timestamp', freq = '1min')]).sum()\n",
    "\n",
    "#https://pandas.pydata.org/pandas-docs/stable/reference/api/pandas.Grouper.html"
   ]
  },
  {
   "cell_type": "code",
   "execution_count": 9,
   "metadata": {},
   "outputs": [
    {
     "data": {
      "text/html": [
       "<div>\n",
       "<style scoped>\n",
       "    .dataframe tbody tr th:only-of-type {\n",
       "        vertical-align: middle;\n",
       "    }\n",
       "\n",
       "    .dataframe tbody tr th {\n",
       "        vertical-align: top;\n",
       "    }\n",
       "\n",
       "    .dataframe thead th {\n",
       "        text-align: right;\n",
       "    }\n",
       "</style>\n",
       "<table border=\"1\" class=\"dataframe\">\n",
       "  <thead>\n",
       "    <tr style=\"text-align: right;\">\n",
       "      <th></th>\n",
       "      <th>from</th>\n",
       "    </tr>\n",
       "    <tr>\n",
       "      <th>Timestamp</th>\n",
       "      <th></th>\n",
       "    </tr>\n",
       "  </thead>\n",
       "  <tbody>\n",
       "    <tr>\n",
       "      <th>2014-06-06 08:03:00</th>\n",
       "      <td>3592559</td>\n",
       "    </tr>\n",
       "    <tr>\n",
       "      <th>2014-06-06 08:04:00</th>\n",
       "      <td>12392144</td>\n",
       "    </tr>\n",
       "    <tr>\n",
       "      <th>2014-06-06 08:05:00</th>\n",
       "      <td>13749265</td>\n",
       "    </tr>\n",
       "    <tr>\n",
       "      <th>2014-06-06 08:06:00</th>\n",
       "      <td>1106999</td>\n",
       "    </tr>\n",
       "    <tr>\n",
       "      <th>2014-06-06 08:07:00</th>\n",
       "      <td>66599796</td>\n",
       "    </tr>\n",
       "    <tr>\n",
       "      <th>...</th>\n",
       "      <td>...</td>\n",
       "    </tr>\n",
       "    <tr>\n",
       "      <th>2014-06-06 23:21:00</th>\n",
       "      <td>1527872</td>\n",
       "    </tr>\n",
       "    <tr>\n",
       "      <th>2014-06-06 23:22:00</th>\n",
       "      <td>775295</td>\n",
       "    </tr>\n",
       "    <tr>\n",
       "      <th>2014-06-06 23:23:00</th>\n",
       "      <td>1267964</td>\n",
       "    </tr>\n",
       "    <tr>\n",
       "      <th>2014-06-06 23:24:00</th>\n",
       "      <td>0</td>\n",
       "    </tr>\n",
       "    <tr>\n",
       "      <th>2014-06-06 23:25:00</th>\n",
       "      <td>26078095</td>\n",
       "    </tr>\n",
       "  </tbody>\n",
       "</table>\n",
       "<p>923 rows × 1 columns</p>\n",
       "</div>"
      ],
      "text/plain": [
       "                         from\n",
       "Timestamp                    \n",
       "2014-06-06 08:03:00   3592559\n",
       "2014-06-06 08:04:00  12392144\n",
       "2014-06-06 08:05:00  13749265\n",
       "2014-06-06 08:06:00   1106999\n",
       "2014-06-06 08:07:00  66599796\n",
       "...                       ...\n",
       "2014-06-06 23:21:00   1527872\n",
       "2014-06-06 23:22:00    775295\n",
       "2014-06-06 23:23:00   1267964\n",
       "2014-06-06 23:24:00         0\n",
       "2014-06-06 23:25:00  26078095\n",
       "\n",
       "[923 rows x 1 columns]"
      ]
     },
     "execution_count": 9,
     "metadata": {},
     "output_type": "execute_result"
    }
   ],
   "source": [
    "fri_calls_count"
   ]
  },
  {
   "cell_type": "code",
   "execution_count": 15,
   "metadata": {},
   "outputs": [
    {
     "data": {
      "text/plain": [
       "<matplotlib.axes._subplots.AxesSubplot at 0xd6fa10>"
      ]
     },
     "execution_count": 15,
     "metadata": {},
     "output_type": "execute_result"
    },
    {
     "data": {
      "image/png": "[encoded data removed]",
      "text/plain": [
       "<Figure size 720x360 with 1 Axes>"
      ]
     },
     "metadata": {
      "needs_background": "light"
     },
     "output_type": "display_data"
    }
   ],
   "source": [
    "eleven = fri_calls_count.between_time('23:00', '23:25')\n",
    "eleven.plot(kind='bar',figsize=(10,5),legend=None)"
   ]
  },
  {
   "cell_type": "code",
   "execution_count": 13,
   "metadata": {},
   "outputs": [
    {
     "data": {
      "text/html": [
       "<div>\n",
       "<style scoped>\n",
       "    .dataframe tbody tr th:only-of-type {\n",
       "        vertical-align: middle;\n",
       "    }\n",
       "\n",
       "    .dataframe tbody tr th {\n",
       "        vertical-align: top;\n",
       "    }\n",
       "\n",
       "    .dataframe thead th {\n",
       "        text-align: right;\n",
       "    }\n",
       "</style>\n",
       "<table border=\"1\" class=\"dataframe\">\n",
       "  <thead>\n",
       "    <tr style=\"text-align: right;\">\n",
       "      <th></th>\n",
       "      <th>from</th>\n",
       "    </tr>\n",
       "    <tr>\n",
       "      <th>Timestamp</th>\n",
       "      <th></th>\n",
       "    </tr>\n",
       "  </thead>\n",
       "  <tbody>\n",
       "    <tr>\n",
       "      <th>2014-06-06 23:00:00</th>\n",
       "      <td>257449667</td>\n",
       "    </tr>\n",
       "    <tr>\n",
       "      <th>2014-06-06 23:01:00</th>\n",
       "      <td>145435105</td>\n",
       "    </tr>\n",
       "    <tr>\n",
       "      <th>2014-06-06 23:02:00</th>\n",
       "      <td>120632827</td>\n",
       "    </tr>\n",
       "    <tr>\n",
       "      <th>2014-06-06 23:03:00</th>\n",
       "      <td>144570864</td>\n",
       "    </tr>\n",
       "    <tr>\n",
       "      <th>2014-06-06 23:04:00</th>\n",
       "      <td>98849896</td>\n",
       "    </tr>\n",
       "    <tr>\n",
       "      <th>2014-06-06 23:05:00</th>\n",
       "      <td>29427486</td>\n",
       "    </tr>\n",
       "    <tr>\n",
       "      <th>2014-06-06 23:06:00</th>\n",
       "      <td>1609200</td>\n",
       "    </tr>\n",
       "    <tr>\n",
       "      <th>2014-06-06 23:07:00</th>\n",
       "      <td>63632785</td>\n",
       "    </tr>\n",
       "    <tr>\n",
       "      <th>2014-06-06 23:08:00</th>\n",
       "      <td>57540579</td>\n",
       "    </tr>\n",
       "    <tr>\n",
       "      <th>2014-06-06 23:09:00</th>\n",
       "      <td>24979681</td>\n",
       "    </tr>\n",
       "    <tr>\n",
       "      <th>2014-06-06 23:10:00</th>\n",
       "      <td>50873318</td>\n",
       "    </tr>\n",
       "    <tr>\n",
       "      <th>2014-06-06 23:11:00</th>\n",
       "      <td>68643435</td>\n",
       "    </tr>\n",
       "    <tr>\n",
       "      <th>2014-06-06 23:12:00</th>\n",
       "      <td>166339857</td>\n",
       "    </tr>\n",
       "    <tr>\n",
       "      <th>2014-06-06 23:13:00</th>\n",
       "      <td>78350569</td>\n",
       "    </tr>\n",
       "    <tr>\n",
       "      <th>2014-06-06 23:14:00</th>\n",
       "      <td>63538018</td>\n",
       "    </tr>\n",
       "    <tr>\n",
       "      <th>2014-06-06 23:15:00</th>\n",
       "      <td>66940416</td>\n",
       "    </tr>\n",
       "    <tr>\n",
       "      <th>2014-06-06 23:16:00</th>\n",
       "      <td>68111118</td>\n",
       "    </tr>\n",
       "    <tr>\n",
       "      <th>2014-06-06 23:17:00</th>\n",
       "      <td>72854337</td>\n",
       "    </tr>\n",
       "    <tr>\n",
       "      <th>2014-06-06 23:18:00</th>\n",
       "      <td>3633256</td>\n",
       "    </tr>\n",
       "    <tr>\n",
       "      <th>2014-06-06 23:19:00</th>\n",
       "      <td>39156501</td>\n",
       "    </tr>\n",
       "    <tr>\n",
       "      <th>2014-06-06 23:20:00</th>\n",
       "      <td>821572</td>\n",
       "    </tr>\n",
       "    <tr>\n",
       "      <th>2014-06-06 23:21:00</th>\n",
       "      <td>1527872</td>\n",
       "    </tr>\n",
       "    <tr>\n",
       "      <th>2014-06-06 23:22:00</th>\n",
       "      <td>775295</td>\n",
       "    </tr>\n",
       "    <tr>\n",
       "      <th>2014-06-06 23:23:00</th>\n",
       "      <td>1267964</td>\n",
       "    </tr>\n",
       "    <tr>\n",
       "      <th>2014-06-06 23:24:00</th>\n",
       "      <td>0</td>\n",
       "    </tr>\n",
       "    <tr>\n",
       "      <th>2014-06-06 23:25:00</th>\n",
       "      <td>26078095</td>\n",
       "    </tr>\n",
       "  </tbody>\n",
       "</table>\n",
       "</div>"
      ],
      "text/plain": [
       "                          from\n",
       "Timestamp                     \n",
       "2014-06-06 23:00:00  257449667\n",
       "2014-06-06 23:01:00  145435105\n",
       "2014-06-06 23:02:00  120632827\n",
       "2014-06-06 23:03:00  144570864\n",
       "2014-06-06 23:04:00   98849896\n",
       "2014-06-06 23:05:00   29427486\n",
       "2014-06-06 23:06:00    1609200\n",
       "2014-06-06 23:07:00   63632785\n",
       "2014-06-06 23:08:00   57540579\n",
       "2014-06-06 23:09:00   24979681\n",
       "2014-06-06 23:10:00   50873318\n",
       "2014-06-06 23:11:00   68643435\n",
       "2014-06-06 23:12:00  166339857\n",
       "2014-06-06 23:13:00   78350569\n",
       "2014-06-06 23:14:00   63538018\n",
       "2014-06-06 23:15:00   66940416\n",
       "2014-06-06 23:16:00   68111118\n",
       "2014-06-06 23:17:00   72854337\n",
       "2014-06-06 23:18:00    3633256\n",
       "2014-06-06 23:19:00   39156501\n",
       "2014-06-06 23:20:00     821572\n",
       "2014-06-06 23:21:00    1527872\n",
       "2014-06-06 23:22:00     775295\n",
       "2014-06-06 23:23:00    1267964\n",
       "2014-06-06 23:24:00          0\n",
       "2014-06-06 23:25:00   26078095"
      ]
     },
     "execution_count": 13,
     "metadata": {},
     "output_type": "execute_result"
    }
   ],
   "source": [
    "eleven"
   ]
  },
  {
   "cell_type": "code",
   "execution_count": 19,
   "metadata": {},
   "outputs": [
    {
     "data": {
      "text/html": [
       "<div>\n",
       "<style scoped>\n",
       "    .dataframe tbody tr th:only-of-type {\n",
       "        vertical-align: middle;\n",
       "    }\n",
       "\n",
       "    .dataframe tbody tr th {\n",
       "        vertical-align: top;\n",
       "    }\n",
       "\n",
       "    .dataframe thead th {\n",
       "        text-align: right;\n",
       "    }\n",
       "</style>\n",
       "<table border=\"1\" class=\"dataframe\">\n",
       "  <thead>\n",
       "    <tr style=\"text-align: right;\">\n",
       "      <th></th>\n",
       "      <th>from</th>\n",
       "    </tr>\n",
       "    <tr>\n",
       "      <th>Timestamp</th>\n",
       "      <th></th>\n",
       "    </tr>\n",
       "  </thead>\n",
       "  <tbody>\n",
       "    <tr>\n",
       "      <th>2014-06-07 08:01:00</th>\n",
       "      <td>1003120</td>\n",
       "    </tr>\n",
       "    <tr>\n",
       "      <th>2014-06-07 08:02:00</th>\n",
       "      <td>6235457</td>\n",
       "    </tr>\n",
       "    <tr>\n",
       "      <th>2014-06-07 08:03:00</th>\n",
       "      <td>7167868</td>\n",
       "    </tr>\n",
       "    <tr>\n",
       "      <th>2014-06-07 08:04:00</th>\n",
       "      <td>128667478</td>\n",
       "    </tr>\n",
       "    <tr>\n",
       "      <th>2014-06-07 08:05:00</th>\n",
       "      <td>476354684</td>\n",
       "    </tr>\n",
       "    <tr>\n",
       "      <th>...</th>\n",
       "      <td>...</td>\n",
       "    </tr>\n",
       "    <tr>\n",
       "      <th>2014-06-07 23:31:00</th>\n",
       "      <td>972171</td>\n",
       "    </tr>\n",
       "    <tr>\n",
       "      <th>2014-06-07 23:32:00</th>\n",
       "      <td>744841</td>\n",
       "    </tr>\n",
       "    <tr>\n",
       "      <th>2014-06-07 23:33:00</th>\n",
       "      <td>55686225</td>\n",
       "    </tr>\n",
       "    <tr>\n",
       "      <th>2014-06-07 23:34:00</th>\n",
       "      <td>30025381</td>\n",
       "    </tr>\n",
       "    <tr>\n",
       "      <th>2014-06-07 23:35:00</th>\n",
       "      <td>2496574</td>\n",
       "    </tr>\n",
       "  </tbody>\n",
       "</table>\n",
       "<p>935 rows × 1 columns</p>\n",
       "</div>"
      ],
      "text/plain": [
       "                          from\n",
       "Timestamp                     \n",
       "2014-06-07 08:01:00    1003120\n",
       "2014-06-07 08:02:00    6235457\n",
       "2014-06-07 08:03:00    7167868\n",
       "2014-06-07 08:04:00  128667478\n",
       "2014-06-07 08:05:00  476354684\n",
       "...                        ...\n",
       "2014-06-07 23:31:00     972171\n",
       "2014-06-07 23:32:00     744841\n",
       "2014-06-07 23:33:00   55686225\n",
       "2014-06-07 23:34:00   30025381\n",
       "2014-06-07 23:35:00    2496574\n",
       "\n",
       "[935 rows x 1 columns]"
      ]
     },
     "execution_count": 19,
     "metadata": {},
     "output_type": "execute_result"
    }
   ],
   "source": [
    "sat_calls_count"
   ]
  },
  {
   "cell_type": "code",
   "execution_count": 16,
   "metadata": {},
   "outputs": [
    {
     "data": {
      "text/html": [
       "<div>\n",
       "<style scoped>\n",
       "    .dataframe tbody tr th:only-of-type {\n",
       "        vertical-align: middle;\n",
       "    }\n",
       "\n",
       "    .dataframe tbody tr th {\n",
       "        vertical-align: top;\n",
       "    }\n",
       "\n",
       "    .dataframe thead th {\n",
       "        text-align: right;\n",
       "    }\n",
       "</style>\n",
       "<table border=\"1\" class=\"dataframe\">\n",
       "  <thead>\n",
       "    <tr style=\"text-align: right;\">\n",
       "      <th></th>\n",
       "      <th>from</th>\n",
       "    </tr>\n",
       "    <tr>\n",
       "      <th>Timestamp</th>\n",
       "      <th></th>\n",
       "    </tr>\n",
       "  </thead>\n",
       "  <tbody>\n",
       "    <tr>\n",
       "      <th>2014-06-06 23:24:00</th>\n",
       "      <td>0</td>\n",
       "    </tr>\n",
       "  </tbody>\n",
       "</table>\n",
       "</div>"
      ],
      "text/plain": [
       "                     from\n",
       "Timestamp                \n",
       "2014-06-06 23:24:00     0"
      ]
     },
     "execution_count": 16,
     "metadata": {},
     "output_type": "execute_result"
    }
   ],
   "source": [
    "fri_calls_count[fri_calls_count['from'] == 0]"
   ]
  },
  {
   "cell_type": "code",
   "execution_count": 15,
   "metadata": {},
   "outputs": [
    {
     "data": {
      "text/html": [
       "<div>\n",
       "<style scoped>\n",
       "    .dataframe tbody tr th:only-of-type {\n",
       "        vertical-align: middle;\n",
       "    }\n",
       "\n",
       "    .dataframe tbody tr th {\n",
       "        vertical-align: top;\n",
       "    }\n",
       "\n",
       "    .dataframe thead th {\n",
       "        text-align: right;\n",
       "    }\n",
       "</style>\n",
       "<table border=\"1\" class=\"dataframe\">\n",
       "  <thead>\n",
       "    <tr style=\"text-align: right;\">\n",
       "      <th></th>\n",
       "      <th>from</th>\n",
       "    </tr>\n",
       "    <tr>\n",
       "      <th>Timestamp</th>\n",
       "      <th></th>\n",
       "    </tr>\n",
       "  </thead>\n",
       "  <tbody>\n",
       "    <tr>\n",
       "      <th>2014-06-07 23:22:00</th>\n",
       "      <td>0</td>\n",
       "    </tr>\n",
       "    <tr>\n",
       "      <th>2014-06-07 23:23:00</th>\n",
       "      <td>0</td>\n",
       "    </tr>\n",
       "    <tr>\n",
       "      <th>2014-06-07 23:25:00</th>\n",
       "      <td>0</td>\n",
       "    </tr>\n",
       "    <tr>\n",
       "      <th>2014-06-07 23:26:00</th>\n",
       "      <td>0</td>\n",
       "    </tr>\n",
       "    <tr>\n",
       "      <th>2014-06-07 23:27:00</th>\n",
       "      <td>0</td>\n",
       "    </tr>\n",
       "    <tr>\n",
       "      <th>2014-06-07 23:28:00</th>\n",
       "      <td>0</td>\n",
       "    </tr>\n",
       "    <tr>\n",
       "      <th>2014-06-07 23:29:00</th>\n",
       "      <td>0</td>\n",
       "    </tr>\n",
       "    <tr>\n",
       "      <th>2014-06-07 23:30:00</th>\n",
       "      <td>0</td>\n",
       "    </tr>\n",
       "  </tbody>\n",
       "</table>\n",
       "</div>"
      ],
      "text/plain": [
       "                     from\n",
       "Timestamp                \n",
       "2014-06-07 23:22:00     0\n",
       "2014-06-07 23:23:00     0\n",
       "2014-06-07 23:25:00     0\n",
       "2014-06-07 23:26:00     0\n",
       "2014-06-07 23:27:00     0\n",
       "2014-06-07 23:28:00     0\n",
       "2014-06-07 23:29:00     0\n",
       "2014-06-07 23:30:00     0"
      ]
     },
     "execution_count": 15,
     "metadata": {},
     "output_type": "execute_result"
    }
   ],
   "source": [
    "sat_calls_count[sat_calls_count['from'] == 0]"
   ]
  },
  {
   "cell_type": "code",
   "execution_count": 17,
   "metadata": {},
   "outputs": [
    {
     "data": {
      "text/html": [
       "<div>\n",
       "<style scoped>\n",
       "    .dataframe tbody tr th:only-of-type {\n",
       "        vertical-align: middle;\n",
       "    }\n",
       "\n",
       "    .dataframe tbody tr th {\n",
       "        vertical-align: top;\n",
       "    }\n",
       "\n",
       "    .dataframe thead th {\n",
       "        text-align: right;\n",
       "    }\n",
       "</style>\n",
       "<table border=\"1\" class=\"dataframe\">\n",
       "  <thead>\n",
       "    <tr style=\"text-align: right;\">\n",
       "      <th></th>\n",
       "      <th>from</th>\n",
       "    </tr>\n",
       "    <tr>\n",
       "      <th>Timestamp</th>\n",
       "      <th></th>\n",
       "    </tr>\n",
       "  </thead>\n",
       "  <tbody>\n",
       "  </tbody>\n",
       "</table>\n",
       "</div>"
      ],
      "text/plain": [
       "Empty DataFrame\n",
       "Columns: [from]\n",
       "Index: []"
      ]
     },
     "execution_count": 17,
     "metadata": {},
     "output_type": "execute_result"
    }
   ],
   "source": [
    "sun_calls_count[sun_calls_count['from'] == 0]"
   ]
  },
  {
   "cell_type": "code",
   "execution_count": 9,
   "metadata": {},
   "outputs": [
    {
     "data": {
      "text/plain": [
       "<matplotlib.axes._subplots.AxesSubplot at 0xcd441b0>"
      ]
     },
     "execution_count": 9,
     "metadata": {},
     "output_type": "execute_result"
    },
    {
     "data": {
      "image/png": "[encoded data removed]",
      "text/plain": [
       "<Figure size 720x360 with 1 Axes>"
      ]
     },
     "metadata": {
      "needs_background": "light"
     },
     "output_type": "display_data"
    }
   ],
   "source": [
    "fri_calls_count.plot(kind='bar',figsize=(10,5),legend=None)"
   ]
  },
  {
   "cell_type": "code",
   "execution_count": 14,
   "metadata": {},
   "outputs": [
    {
     "output_type": "stream",
     "name": "stderr",
     "text": [
      "C:\\Users\\maype\\anaconda3\\lib\\site-packages\\IPython\\core\\interactiveshell.py:3146: DtypeWarning: Columns (1,3,4) have mixed types.Specify dtype option on import or set low_memory=False.\n  has_raised = await self.run_ast_nodes(code_ast.body, cell_name,\n"
     ]
    }
   ],
   "source": [
    "## Movement Data \n",
    "mvmt_sun = pd.read_csv(\"C:/Users/maype/Documents/CSC235/DC2/DATA/park-movement-Sun.csv\", parse_dates=[0])\n"
   ]
  },
  {
   "cell_type": "code",
   "execution_count": 15,
   "metadata": {},
   "outputs": [],
   "source": [
    "#dropping last row that just repeats the column titles\n",
    "mvmt_sun = mvmt_sun[0:10932425]"
   ]
  },
  {
   "cell_type": "code",
   "execution_count": 21,
   "metadata": {},
   "outputs": [
    {
     "output_type": "execute_result",
     "data": {
      "text/plain": [
       "                   Timestamp       id      type   X   Y\n",
       "0        2014-06-08 08:00:11  1923259  check-in   0  67\n",
       "1        2014-06-08 08:00:11    39012  check-in   0  67\n",
       "2        2014-06-08 08:00:11   613364  check-in   0  67\n",
       "3        2014-06-08 08:00:14   100951  check-in  99  77\n",
       "4        2014-06-08 08:00:14  1959069  check-in  99  77\n",
       "...                      ...      ...       ...  ..  ..\n",
       "10932420 2014-06-08 23:25:13    71913  movement  63  99\n",
       "10932421 2014-06-08 23:25:13   785325  movement  63  99\n",
       "10932422 2014-06-08 23:25:13   791077  movement  63  99\n",
       "10932423 2014-06-08 23:25:13   874286  movement  63  99\n",
       "10932424 2014-06-08 23:25:13   941561  movement  63  99\n",
       "\n",
       "[10932425 rows x 5 columns]"
      ],
      "text/html": "<div>\n<style scoped>\n    .dataframe tbody tr th:only-of-type {\n        vertical-align: middle;\n    }\n\n    .dataframe tbody tr th {\n        vertical-align: top;\n    }\n\n    .dataframe thead th {\n        text-align: right;\n    }\n</style>\n<table border=\"1\" class=\"dataframe\">\n  <thead>\n    <tr style=\"text-align: right;\">\n      <th></th>\n      <th>Timestamp</th>\n      <th>id</th>\n      <th>type</th>\n      <th>X</th>\n      <th>Y</th>\n    </tr>\n  </thead>\n  <tbody>\n    <tr>\n      <th>0</th>\n      <td>2014-06-08 08:00:11</td>\n      <td>1923259</td>\n      <td>check-in</td>\n      <td>0</td>\n      <td>67</td>\n    </tr>\n    <tr>\n      <th>1</th>\n      <td>2014-06-08 08:00:11</td>\n      <td>39012</td>\n      <td>check-in</td>\n      <td>0</td>\n      <td>67</td>\n    </tr>\n    <tr>\n      <th>2</th>\n      <td>2014-06-08 08:00:11</td>\n      <td>613364</td>\n      <td>check-in</td>\n      <td>0</td>\n      <td>67</td>\n    </tr>\n    <tr>\n      <th>3</th>\n      <td>2014-06-08 08:00:14</td>\n      <td>100951</td>\n      <td>check-in</td>\n      <td>99</td>\n      <td>77</td>\n    </tr>\n    <tr>\n      <th>4</th>\n      <td>2014-06-08 08:00:14</td>\n      <td>1959069</td>\n      <td>check-in</td>\n      <td>99</td>\n      <td>77</td>\n    </tr>\n    <tr>\n      <th>...</th>\n      <td>...</td>\n      <td>...</td>\n      <td>...</td>\n      <td>...</td>\n      <td>...</td>\n    </tr>\n    <tr>\n      <th>10932420</th>\n      <td>2014-06-08 23:25:13</td>\n      <td>71913</td>\n      <td>movement</td>\n      <td>63</td>\n      <td>99</td>\n    </tr>\n    <tr>\n      <th>10932421</th>\n      <td>2014-06-08 23:25:13</td>\n      <td>785325</td>\n      <td>movement</td>\n      <td>63</td>\n      <td>99</td>\n    </tr>\n    <tr>\n      <th>10932422</th>\n      <td>2014-06-08 23:25:13</td>\n      <td>791077</td>\n      <td>movement</td>\n      <td>63</td>\n      <td>99</td>\n    </tr>\n    <tr>\n      <th>10932423</th>\n      <td>2014-06-08 23:25:13</td>\n      <td>874286</td>\n      <td>movement</td>\n      <td>63</td>\n      <td>99</td>\n    </tr>\n    <tr>\n      <th>10932424</th>\n      <td>2014-06-08 23:25:13</td>\n      <td>941561</td>\n      <td>movement</td>\n      <td>63</td>\n      <td>99</td>\n    </tr>\n  </tbody>\n</table>\n<p>10932425 rows × 5 columns</p>\n</div>"
     },
     "metadata": {},
     "execution_count": 21
    }
   ],
   "source": [
    "mvmt_sun"
   ]
  },
  {
   "cell_type": "code",
   "execution_count": 28,
   "metadata": {},
   "outputs": [],
   "source": [
    "#converting Timestamp column from object to datetime \n",
    "mvmt_sun['Timestamp'] = pd.to_datetime(mvmt_sun['Timestamp'])\n",
    "mvmt_sun['X'] = pd.to_numeric(mvmt_sun['X'])\n",
    "mvmt_sun['Y'] = pd.to_numeric(mvmt_sun['Y'])"
   ]
  },
  {
   "cell_type": "code",
   "execution_count": 29,
   "metadata": {},
   "outputs": [
    {
     "output_type": "stream",
     "name": "stdout",
     "text": [
      "<class 'pandas.core.frame.DataFrame'>\nRangeIndex: 10932425 entries, 0 to 10932424\nData columns (total 5 columns):\n #   Column     Dtype         \n---  ------     -----         \n 0   Timestamp  datetime64[ns]\n 1   id         object        \n 2   type       object        \n 3   X          float64       \n 4   Y          float64       \ndtypes: datetime64[ns](1), float64(2), object(2)\nmemory usage: 417.0+ MB\n"
     ]
    }
   ],
   "source": [
    "mvmt_sun.info()"
   ]
  },
  {
   "cell_type": "code",
   "execution_count": 24,
   "metadata": {},
   "outputs": [],
   "source": [
    "#time we're interested in, we believe the crime happened during this time. \n",
    "start_time = pd.to_datetime('2014-06-08 9:40:00')\n",
    "end_time = pd.to_datetime('2014-06-08 13:00:00')"
   ]
  },
  {
   "cell_type": "code",
   "execution_count": 26,
   "metadata": {},
   "outputs": [],
   "source": [
    "mvmt_sun_sus = mvmt_sun.loc[(mvmt_sun['Timestamp'] > start_time) & (mvmt_sun['Timestamp'] <end_time)]\n"
   ]
  },
  {
   "cell_type": "code",
   "execution_count": 30,
   "metadata": {},
   "outputs": [],
   "source": [
    "mvmt_sun_sus_location = mvmt_sun_sus.loc[(mvmt_sun_sus['X'] == 32 ) & (mvmt_sun_sus['Y'] == 33)] "
   ]
  },
  {
   "cell_type": "code",
   "execution_count": 38,
   "metadata": {},
   "outputs": [
    {
     "output_type": "execute_result",
     "data": {
      "text/plain": [
       "array([1009817, 836758, 264185, ..., 23258, 251539, 2095583], dtype=object)"
      ]
     },
     "metadata": {},
     "execution_count": 38
    }
   ],
   "source": [
    "mvmt_sun_sus_location['id'].unique()\n"
   ]
  },
  {
   "cell_type": "code",
   "execution_count": 37,
   "metadata": {},
   "outputs": [
    {
     "output_type": "execute_result",
     "data": {
      "text/plain": [
       "2398"
      ]
     },
     "metadata": {},
     "execution_count": 37
    }
   ],
   "source": [
    "#how many unique people went into the pavillion during this time? \n",
    "len(mvmt_sun_sus_location['id'].unique())"
   ]
  },
  {
   "cell_type": "code",
   "execution_count": null,
   "metadata": {},
   "outputs": [],
   "source": [
    "#What is the average time a person spends in the Pavillion? \n",
    "\n"
   ]
  }
 ],
 "metadata": {
  "kernelspec": {
   "name": "python3",
   "display_name": "Python 3",
   "language": "python"
  },
  "language_info": {
   "codemirror_mode": {
    "name": "ipython",
    "version": 3
   },
   "file_extension": ".py",
   "mimetype": "text/x-python",
   "name": "python",
   "nbconvert_exporter": "python",
   "pygments_lexer": "ipython3",
   "version": "3.8.5-final"
  }
 },
 "nbformat": 4,
 "nbformat_minor": 4
}